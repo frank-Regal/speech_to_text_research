{
 "cells": [
  {
   "cell_type": "code",
   "execution_count": 7,
   "metadata": {},
   "outputs": [],
   "source": [
    "import sounddevice as sd\n",
    "import numpy as np\n",
    "import scipy.io.wavfile as wav\n",
    "import deepspeech as dp"
   ]
  },
  {
   "cell_type": "code",
   "execution_count": 5,
   "metadata": {},
   "outputs": [
    {
     "name": "stdout",
     "output_type": "stream",
     "text": [
      "Device 0: HDA Intel PCH: ALC1220 Analog (hw:0,0)\n",
      "Device 1: HDA Intel PCH: ALC1220 Digital (hw:0,1)\n",
      "Device 2: HDA Intel PCH: ALC1220 Alt Analog (hw:0,2)\n",
      "Device 3: HDA NVidia: HDMI 0 (hw:1,3)\n",
      "Device 4: HDA NVidia: HDMI 1 (hw:1,7)\n",
      "Device 5: HDA NVidia: HDMI 2 (hw:1,8)\n",
      "Device 6: HDA NVidia: HDMI 3 (hw:1,9)\n",
      "Device 7: HDA NVidia: HDMI 4 (hw:1,10)\n",
      "Device 8: HDA NVidia: HDMI 5 (hw:1,11)\n",
      "Device 9: HDA NVidia: HDMI 6 (hw:1,12)\n",
      "Device 10: Dell AC511 USB SoundBar: Audio (hw:2,0)\n",
      "Device 11: USB  Live camera: Audio (hw:3,0)\n",
      "Device 12: sysdefault\n",
      "Device 13: front\n",
      "Device 14: surround21\n",
      "Device 15: surround40\n",
      "Device 16: surround41\n",
      "Device 17: surround50\n",
      "Device 18: surround51\n",
      "Device 19: surround71\n",
      "Device 20: iec958\n",
      "Device 21: spdif\n",
      "Device 22: samplerate\n",
      "Device 23: speexrate\n",
      "Device 24: pulse\n",
      "Device 25: upmix\n",
      "Device 26: vdownmix\n",
      "Device 27: dmix\n",
      "Device 28: default\n"
     ]
    }
   ],
   "source": [
    "# Get the list of available audio devices\n",
    "devices = sd.query_devices()\n",
    "\n",
    "# Print the information of all available audio devices\n",
    "for i, device in enumerate(devices):\n",
    "    print(f\"Device {i}: {device['name']}\")\n",
    "\n",
    "# Select the desired audio capture device index\n",
    "device_index = 0  # Replace with the desired device index"
   ]
  },
  {
   "cell_type": "code",
   "execution_count": 6,
   "metadata": {},
   "outputs": [
    {
     "name": "stdout",
     "output_type": "stream",
     "text": [
      "Start Talking\n",
      "Recording saved to: recorded_audio.wav\n"
     ]
    }
   ],
   "source": [
    "# Set the audio parameters\n",
    "sample_rate = 44100\n",
    "duration = 10  # Recording duration in seconds\n",
    "\n",
    "# Start the audio recording\n",
    "recording = sd.rec(int(duration * sample_rate), samplerate=sample_rate, channels=1)\n",
    "print(\"Start Talking\")\n",
    "sd.wait()\n",
    "\n",
    "# Convert the recording to a float array\n",
    "recording_float = recording.astype(np.float32)\n",
    "\n",
    "# Save the recording to a WAV file\n",
    "output_file = \"recorded_audio.wav\"\n",
    "wav.write(output_file, sample_rate, recording_float)\n",
    "\n",
    "print(f\"Recording saved to: {output_file}\")"
   ]
  },
  {
   "cell_type": "code",
   "execution_count": null,
   "metadata": {},
   "outputs": [],
   "source": [
    "\n",
    "ds = Model()"
   ]
  }
 ],
 "metadata": {
  "kernelspec": {
   "display_name": "Python 3",
   "language": "python",
   "name": "python3"
  },
  "language_info": {
   "codemirror_mode": {
    "name": "ipython",
    "version": 3
   },
   "file_extension": ".py",
   "mimetype": "text/x-python",
   "name": "python",
   "nbconvert_exporter": "python",
   "pygments_lexer": "ipython3",
   "version": "3.8.16"
  },
  "orig_nbformat": 4
 },
 "nbformat": 4,
 "nbformat_minor": 2
}
